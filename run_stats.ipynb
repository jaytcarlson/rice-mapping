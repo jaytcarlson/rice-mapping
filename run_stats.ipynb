{
 "cells": [
  {
   "cell_type": "code",
   "execution_count": 1,
   "metadata": {},
   "outputs": [],
   "source": [
    "import os\n",
    "import descarteslabs as dl \n",
    "from descarteslabs.client.services.tasks import AsyncTasks, as_completed\n",
    "from descarteslabs.client.services.catalog import Catalog"
   ]
  },
  {
   "cell_type": "code",
   "execution_count": 8,
   "metadata": {},
   "outputs": [],
   "source": [
    "def rice_sar_stats(year, tile):\n",
    "\n",
    "    import json\n",
    "    import numpy as np\n",
    "    from osgeo import gdal\n",
    "    import logging\n",
    "    import time\n",
    "    from datetime import datetime\n",
    "    catalog = Catalog()\n",
    "\n",
    "    def arr_to_tiff(stats, meta, year, dlkey):\n",
    "        \n",
    "        drv = gdal.GetDriverByName('GTiff')\n",
    "        nOutBands = len(stats)\n",
    "        rows, cols = stats[0].shape[0], stats[0].shape[1]\n",
    "        savename = year + '_' + dlkey + '.tif'\n",
    " \n",
    "        dest_ds = drv.Create(savename,\n",
    "                             rows, cols, nOutBands,\n",
    "                             gdal.GDT_Byte,\n",
    "                             options=['TILED=YES', 'COMPRESS=LZW']\n",
    "                             )\n",
    "        dest_ds.SetGeoTransform(meta['geoTransform'])\n",
    "        print(\"HERE:\", meta['coordinateSystem']['wkt'])\n",
    "        dest_ds.SetProjection(meta['coordinateSystem']['wkt'].encode('utf-8'))\n",
    "\n",
    "        for i in range(0, nOutBands):\n",
    "            dest_ds.GetRasterBand(i + 1).WriteArray(stats[i])\n",
    "\n",
    "        del dest_ds        \n",
    "        \n",
    "        return savename\n",
    "\n",
    "    def calculate_stats(arr):\n",
    "\n",
    "        vx_max = arr.max(axis=0)\n",
    "        vx_min = arr.min(axis=0)\n",
    "        vx_mean = arr.mean(axis=0)\n",
    "        vx_med = np.ma.median(arr, axis=0)\n",
    "        vx_std = arr.std(axis=0)\n",
    "\n",
    "        stats = [vx_max, vx_min, vx_mean, vx_med, vx_std]\n",
    "\n",
    "        return stats\n",
    "\n",
    "    def get_imagery(year, tile, s1_pass, band):\n",
    "\n",
    "        start = str(year) + '-01-01'\n",
    "        end = str(year) + '-12-31'\n",
    "\n",
    "        dlkey = tile['properties']['key']\n",
    "\n",
    "        # Search for available imagery for each tile\n",
    "        scenes = dl.metadata.search(\n",
    "                               products=[\"sentinel-1:GRD\"],\n",
    "                               start_time=start,\n",
    "                               end_time=end,\n",
    "                               geom=json.dumps(tile['geometry']),\n",
    "                               limit = 1000\n",
    "                               )\n",
    "\n",
    "        if s1_pass == 'DESCENDING' or s1_pass == 'ASCENDING':\n",
    "            img_subset = [item for item in scenes['features'] if item['properties']['pass'] == s1_pass]\n",
    "            scenes['features'] = img_subset\n",
    "\n",
    "        ids = [scene['id'] for scene in scenes['features']]\n",
    "        \n",
    "        arr, meta = dl.raster.stack(\n",
    "                                ids,\n",
    "                                bands=band,\n",
    "                                data_type='Byte',\n",
    "                                dltile=dlkey,\n",
    "                                )\n",
    "        arr = arr[:,:,:,0]\n",
    "        return arr, meta[0]\n",
    "\n",
    "    def catalog_upload(tile, stats_list, meta, year):\n",
    "\n",
    "        dlkey = tile['properties']['key']\n",
    "        \n",
    "        # generate a single geotiff with a band for each annual statistic\n",
    "        savename = arr_to_tiff(stats_list, meta, year, dlkey)\n",
    "        product_id  = '7294028cc01114d89a473cf055d29dc5cd5ffe88:sar_img_stats:astrodigital'\n",
    "\n",
    "        # write geotiff to catalog\n",
    "        for tries in range(3):\n",
    "            print(savename, product_id, datetime.today().isoformat())\n",
    "            try:\n",
    "                catalog.upload_image(savename, product_id, acquired=datetime.today().isoformat())\n",
    "                print (\"successfully wrote %s to catalog!\" % dlkey)\n",
    "                break\n",
    "         \n",
    "            except Exception as err:\n",
    "                print (err)\n",
    "                logging.error(\"Could not upload to catalog\")\n",
    "                waittime = 2**tries\n",
    "                logging.warning(\"Retrying upload %s\" % waittime)\n",
    "                time.sleep(waittime)\n",
    "                continue\n",
    "\n",
    "    def run_analysis(year, tile):\n",
    "\n",
    "        bands = [['vv'], ['vh']]\n",
    "        passes = ['DESCENDING', 'ASCENDING', 'BOTH']\n",
    "        all_stats = []\n",
    "\n",
    "        for band in bands:\n",
    "            for s1_pass in passes:\n",
    "                try:\n",
    "                    imagery, meta = get_imagery(year, tile, s1_pass, band)\n",
    "                    arr = np.ma.masked_equal(imagery,0)\n",
    "                    stats = calculate_stats(arr)\n",
    "                    all_stats.append(stats)\n",
    "                except:\n",
    "                    tile_size = tile['properties']['tilesize']\n",
    "                    nodata = np.zeros((tile_size, tile_size), dtype=np.uint8)\n",
    "                    all_stats.append([nodata, nodata, nodata, nodata, nodata])\n",
    "        \n",
    "        # flatten the list of lists (all_stats) into a single list\n",
    "        stats_list = [item for sublist in all_stats for item in sublist]\n",
    "        \n",
    "        catalog_upload(tile, stats_list, meta, year)\n",
    "    \n",
    "    run_analysis(year,tile)"
   ]
  },
  {
   "cell_type": "code",
   "execution_count": 9,
   "metadata": {},
   "outputs": [
    {
     "name": "stderr",
     "output_type": "stream",
     "text": [
      "/Users/karlaking/miniconda3/envs/rice-stats/lib/python3.7/site-packages/descarteslabs/client/services/tasks/tasks.py:781: DeprecationWarning: The `create_or_get_function` method has been deprecated. Please use the `create_function` method.\n",
      "  warn(CREATE_OR_GET_DEPRECATION_MESSAGE, DeprecationWarning)\n",
      "/Users/karlaking/miniconda3/envs/rice-stats/lib/python3.7/site-packages/descarteslabs/client/services/tasks/tasks.py:723: DeprecationWarning: The behavior of `get_function` is deprecated and will be changed in future versions to get function by group `id` and not `name`.\n",
      "  warn(GET_FUNCTION_DEPRECATION_MESSAGE, DeprecationWarning)\n"
     ]
    },
    {
     "name": "stdout",
     "output_type": "stream",
     "text": [
      "TILE ID: 1024:0:20.0:48:-8:6\n",
      "TILE ID: 1024:0:20.0:48:-8:7\n",
      "TILE ID: 1024:0:20.0:48:-7:6\n",
      "TILE ID: 1024:0:20.0:48:-7:7\n",
      "TILE ID: 1024:0:20.0:48:-6:6\n",
      "TILE ID: 1024:0:20.0:48:-6:7\n",
      "TILE ID: 1024:0:20.0:48:-5:7\n",
      "TILE ID: 1024:0:20.0:48:-4:7\n",
      "Done submitting 8 tasks. Starting to collect\n"
     ]
    },
    {
     "name": "stderr",
     "output_type": "stream",
     "text": [
      "WARNING:root:Done with 0 / 8 tasks\n",
      "WARNING:root:Done with 0 / 8 tasks\n",
      "WARNING:root:Done with 0 / 8 tasks\n",
      "WARNING:root:Done with 0 / 8 tasks\n",
      "WARNING:root:Done with 0 / 8 tasks\n",
      "WARNING:root:Done with 0 / 8 tasks\n",
      "WARNING:root:Done with 0 / 8 tasks\n",
      "WARNING:root:Done with 0 / 8 tasks\n",
      "WARNING:root:Done with 0 / 8 tasks\n",
      "WARNING:root:Done with 0 / 8 tasks\n",
      "WARNING:root:Done with 0 / 8 tasks\n",
      "WARNING:root:Done with 0 / 8 tasks\n",
      "WARNING:root:Done with 0 / 8 tasks\n",
      "WARNING:root:Done with 0 / 8 tasks\n",
      "WARNING:root:Done with 0 / 8 tasks\n",
      "WARNING:root:Done with 0 / 8 tasks\n",
      "WARNING:root:Done with 0 / 8 tasks\n",
      "WARNING:root:Done with 0 / 8 tasks\n",
      "WARNING:root:Done with 0 / 8 tasks\n",
      "WARNING:root:Done with 0 / 8 tasks\n",
      "WARNING:root:Done with 0 / 8 tasks\n",
      "WARNING:root:Done with 0 / 8 tasks\n",
      "WARNING:root:Done with 1 / 8 tasks\n"
     ]
    },
    {
     "name": "stdout",
     "output_type": "stream",
     "text": [
      "Failed with exception:  b'/usr/local/lib/python3.7/dist-packages/descarteslabs/client/deprecation.py:37: DeprecationWarning: The parameter `start_time` has been renamed to `start_datetime`.`start_time` will be removed in future versions, please use `start_datetime` instead.\\n  warnings.warn(msg, DeprecationWarning)\\n/usr/local/lib/python3.7/dist-packages/descarteslabs/client/deprecation.py:37: DeprecationWarning: The parameter `end_time` has been renamed to `end_datetime`.`end_time` will be removed in future versions, please use `end_datetime` instead.\\n  warnings.warn(msg, DeprecationWarning)\\n/usr/local/lib/python3.7/dist-packages/descarteslabs/client/deprecation.py:37: DeprecationWarning: The parameter `start_time` has been renamed to `start_datetime`.`start_time` will be removed in future versions, please use `start_datetime` instead.\\n  warnings.warn(msg, DeprecationWarning)\\n/usr/local/lib/python3.7/dist-packages/descarteslabs/client/deprecation.py:37: DeprecationWarning: The parameter `end_time` has been renamed to `end_datetime`.`end_time` will be removed in future versions, please use `end_datetime` instead.\\n  warnings.warn(msg, DeprecationWarning)\\n/usr/local/lib/python3.7/dist-packages/descarteslabs/client/deprecation.py:37: DeprecationWarning: The parameter `start_time` has been renamed to `start_datetime`.`start_time` will be removed in future versions, please use `start_datetime` instead.\\n  warnings.warn(msg, DeprecationWarning)\\n/usr/local/lib/python3.7/dist-packages/descarteslabs/client/deprecation.py:37: DeprecationWarning: The parameter `end_time` has been renamed to `end_datetime`.`end_time` will be removed in future versions, please use `end_datetime` instead.\\n  warnings.warn(msg, DeprecationWarning)\\n/usr/local/lib/python3.7/dist-packages/descarteslabs/client/deprecation.py:37: DeprecationWarning: The parameter `start_time` has been renamed to `start_datetime`.`start_time` will be removed in future versions, please use `start_datetime` instead.\\n  warnings.warn(msg, DeprecationWarning)\\n/usr/local/lib/python3.7/dist-packages/descarteslabs/client/deprecation.py:37: DeprecationWarning: The parameter `end_time` has been renamed to `end_datetime`.`end_time` will be removed in future versions, please use `end_datetime` instead.\\n  warnings.warn(msg, DeprecationWarning)\\n/usr/local/lib/python3.7/dist-packages/descarteslabs/client/deprecation.py:37: DeprecationWarning: The parameter `start_time` has been renamed to `start_datetime`.`start_time` will be removed in future versions, please use `start_datetime` instead.\\n  warnings.warn(msg, DeprecationWarning)\\n/usr/local/lib/python3.7/dist-packages/descarteslabs/client/deprecation.py:37: DeprecationWarning: The parameter `end_time` has been renamed to `end_datetime`.`end_time` will be removed in future versions, please use `end_datetime` instead.\\n  warnings.warn(msg, DeprecationWarning)\\n/usr/local/lib/python3.7/dist-packages/descarteslabs/client/deprecation.py:37: DeprecationWarning: The parameter `start_time` has been renamed to `start_datetime`.`start_time` will be removed in future versions, please use `start_datetime` instead.\\n  warnings.warn(msg, DeprecationWarning)\\n/usr/local/lib/python3.7/dist-packages/descarteslabs/client/deprecation.py:37: DeprecationWarning: The parameter `end_time` has been renamed to `end_datetime`.`end_time` will be removed in future versions, please use `end_datetime` instead.\\n  warnings.warn(msg, DeprecationWarning)\\nHERE: PROJCS[\"WGS 84 / UTM zone 48N\",\\n    GEOGCS[\"WGS 84\",\\n        DATUM[\"WGS_1984\",\\n            SPHEROID[\"WGS 84\",6378137,298.257223563,\\n                AUTHORITY[\"EPSG\",\"7030\"]],\\n            AUTHORITY[\"EPSG\",\"6326\"]],\\n        PRIMEM[\"Greenwich\",0,\\n            AUTHORITY[\"EPSG\",\"8901\"]],\\n        UNIT[\"degree\",0.0174532925199433,\\n            AUTHORITY[\"EPSG\",\"9122\"]],\\n        AUTHORITY[\"EPSG\",\"4326\"]],\\n    PROJECTION[\"Transverse_Mercator\"],\\n    PARAMETER[\"latitude_of_origin\",0],\\n    PARAMETER[\"central_meridian\",105],\\n    PARAMETER[\"scale_factor\",0.9996],\\n    PARAMETER[\"false_easting\",500000],\\n    PARAMETER[\"false_northing\",0],\\n    UNIT[\"metre\",1,\\n        AUTHORITY[\"EPSG\",\"9001\"]],\\n    AXIS[\"Easting\",EAST],\\n    AXIS[\"Northing\",NORTH],\\n    AUTHORITY[\"EPSG\",\"32648\"]]\\nTraceback (most recent call last):\\n  File \"/opt/src/wrapper/wrapper.py\", line 578, in pickle_work\\n    output = f(*arguments, **parameters)\\n  File \"<ipython-input-8-581db25cabcb>\", line 124, in rice_sar_stats\\n  File \"<ipython-input-8-581db25cabcb>\", line 122, in run_analysis\\n  File \"<ipython-input-8-581db25cabcb>\", line 82, in catalog_upload\\n  File \"<ipython-input-8-581db25cabcb>\", line 25, in arr_to_tiff\\n  File \"/usr/local/lib/python3.7/dist-packages/osgeo/gdal.py\", line 1843, in SetProjection\\n    return _gdal.Dataset_SetProjection(self, *args)\\nTypeError: in method \\'Dataset_SetProjection\\', argument 2 of type \\'char const *\\'\\n'\n"
     ]
    },
    {
     "name": "stderr",
     "output_type": "stream",
     "text": [
      "WARNING:root:Done with 1 / 8 tasks\n",
      "WARNING:root:Done with 1 / 8 tasks\n",
      "WARNING:root:Done with 1 / 8 tasks\n",
      "WARNING:root:Done with 2 / 8 tasks\n"
     ]
    },
    {
     "name": "stdout",
     "output_type": "stream",
     "text": [
      "Failed with exception:  b'/usr/local/lib/python3.7/dist-packages/descarteslabs/client/deprecation.py:37: DeprecationWarning: The parameter `start_time` has been renamed to `start_datetime`.`start_time` will be removed in future versions, please use `start_datetime` instead.\\n  warnings.warn(msg, DeprecationWarning)\\n/usr/local/lib/python3.7/dist-packages/descarteslabs/client/deprecation.py:37: DeprecationWarning: The parameter `end_time` has been renamed to `end_datetime`.`end_time` will be removed in future versions, please use `end_datetime` instead.\\n  warnings.warn(msg, DeprecationWarning)\\n/usr/local/lib/python3.7/dist-packages/descarteslabs/client/deprecation.py:37: DeprecationWarning: The parameter `start_time` has been renamed to `start_datetime`.`start_time` will be removed in future versions, please use `start_datetime` instead.\\n  warnings.warn(msg, DeprecationWarning)\\n/usr/local/lib/python3.7/dist-packages/descarteslabs/client/deprecation.py:37: DeprecationWarning: The parameter `end_time` has been renamed to `end_datetime`.`end_time` will be removed in future versions, please use `end_datetime` instead.\\n  warnings.warn(msg, DeprecationWarning)\\n/usr/local/lib/python3.7/dist-packages/descarteslabs/client/deprecation.py:37: DeprecationWarning: The parameter `start_time` has been renamed to `start_datetime`.`start_time` will be removed in future versions, please use `start_datetime` instead.\\n  warnings.warn(msg, DeprecationWarning)\\n/usr/local/lib/python3.7/dist-packages/descarteslabs/client/deprecation.py:37: DeprecationWarning: The parameter `end_time` has been renamed to `end_datetime`.`end_time` will be removed in future versions, please use `end_datetime` instead.\\n  warnings.warn(msg, DeprecationWarning)\\n/usr/local/lib/python3.7/dist-packages/descarteslabs/client/deprecation.py:37: DeprecationWarning: The parameter `start_time` has been renamed to `start_datetime`.`start_time` will be removed in future versions, please use `start_datetime` instead.\\n  warnings.warn(msg, DeprecationWarning)\\n/usr/local/lib/python3.7/dist-packages/descarteslabs/client/deprecation.py:37: DeprecationWarning: The parameter `end_time` has been renamed to `end_datetime`.`end_time` will be removed in future versions, please use `end_datetime` instead.\\n  warnings.warn(msg, DeprecationWarning)\\n/usr/local/lib/python3.7/dist-packages/descarteslabs/client/deprecation.py:37: DeprecationWarning: The parameter `start_time` has been renamed to `start_datetime`.`start_time` will be removed in future versions, please use `start_datetime` instead.\\n  warnings.warn(msg, DeprecationWarning)\\n/usr/local/lib/python3.7/dist-packages/descarteslabs/client/deprecation.py:37: DeprecationWarning: The parameter `end_time` has been renamed to `end_datetime`.`end_time` will be removed in future versions, please use `end_datetime` instead.\\n  warnings.warn(msg, DeprecationWarning)\\n/usr/local/lib/python3.7/dist-packages/descarteslabs/client/deprecation.py:37: DeprecationWarning: The parameter `start_time` has been renamed to `start_datetime`.`start_time` will be removed in future versions, please use `start_datetime` instead.\\n  warnings.warn(msg, DeprecationWarning)\\n/usr/local/lib/python3.7/dist-packages/descarteslabs/client/deprecation.py:37: DeprecationWarning: The parameter `end_time` has been renamed to `end_datetime`.`end_time` will be removed in future versions, please use `end_datetime` instead.\\n  warnings.warn(msg, DeprecationWarning)\\nHERE: PROJCS[\"WGS 84 / UTM zone 48N\",\\n    GEOGCS[\"WGS 84\",\\n        DATUM[\"WGS_1984\",\\n            SPHEROID[\"WGS 84\",6378137,298.257223563,\\n                AUTHORITY[\"EPSG\",\"7030\"]],\\n            AUTHORITY[\"EPSG\",\"6326\"]],\\n        PRIMEM[\"Greenwich\",0,\\n            AUTHORITY[\"EPSG\",\"8901\"]],\\n        UNIT[\"degree\",0.0174532925199433,\\n            AUTHORITY[\"EPSG\",\"9122\"]],\\n        AUTHORITY[\"EPSG\",\"4326\"]],\\n    PROJECTION[\"Transverse_Mercator\"],\\n    PARAMETER[\"latitude_of_origin\",0],\\n    PARAMETER[\"central_meridian\",105],\\n    PARAMETER[\"scale_factor\",0.9996],\\n    PARAMETER[\"false_easting\",500000],\\n    PARAMETER[\"false_northing\",0],\\n    UNIT[\"metre\",1,\\n        AUTHORITY[\"EPSG\",\"9001\"]],\\n    AXIS[\"Easting\",EAST],\\n    AXIS[\"Northing\",NORTH],\\n    AUTHORITY[\"EPSG\",\"32648\"]]\\nTraceback (most recent call last):\\n  File \"/opt/src/wrapper/wrapper.py\", line 578, in pickle_work\\n    output = f(*arguments, **parameters)\\n  File \"<ipython-input-8-581db25cabcb>\", line 124, in rice_sar_stats\\n  File \"<ipython-input-8-581db25cabcb>\", line 122, in run_analysis\\n  File \"<ipython-input-8-581db25cabcb>\", line 82, in catalog_upload\\n  File \"<ipython-input-8-581db25cabcb>\", line 25, in arr_to_tiff\\n  File \"/usr/local/lib/python3.7/dist-packages/osgeo/gdal.py\", line 1843, in SetProjection\\n    return _gdal.Dataset_SetProjection(self, *args)\\nTypeError: in method \\'Dataset_SetProjection\\', argument 2 of type \\'char const *\\'\\n'\n"
     ]
    },
    {
     "name": "stderr",
     "output_type": "stream",
     "text": [
      "WARNING:root:Done with 2 / 8 tasks\n",
      "WARNING:root:Done with 2 / 8 tasks\n",
      "WARNING:root:Done with 2 / 8 tasks\n",
      "WARNING:root:Done with 2 / 8 tasks\n",
      "WARNING:root:Done with 2 / 8 tasks\n",
      "WARNING:root:Done with 3 / 8 tasks\n"
     ]
    },
    {
     "name": "stdout",
     "output_type": "stream",
     "text": [
      "Failed with exception:  b'/usr/local/lib/python3.7/dist-packages/descarteslabs/client/deprecation.py:37: DeprecationWarning: The parameter `start_time` has been renamed to `start_datetime`.`start_time` will be removed in future versions, please use `start_datetime` instead.\\n  warnings.warn(msg, DeprecationWarning)\\n/usr/local/lib/python3.7/dist-packages/descarteslabs/client/deprecation.py:37: DeprecationWarning: The parameter `end_time` has been renamed to `end_datetime`.`end_time` will be removed in future versions, please use `end_datetime` instead.\\n  warnings.warn(msg, DeprecationWarning)\\n/usr/local/lib/python3.7/dist-packages/descarteslabs/client/deprecation.py:37: DeprecationWarning: The parameter `start_time` has been renamed to `start_datetime`.`start_time` will be removed in future versions, please use `start_datetime` instead.\\n  warnings.warn(msg, DeprecationWarning)\\n/usr/local/lib/python3.7/dist-packages/descarteslabs/client/deprecation.py:37: DeprecationWarning: The parameter `end_time` has been renamed to `end_datetime`.`end_time` will be removed in future versions, please use `end_datetime` instead.\\n  warnings.warn(msg, DeprecationWarning)\\n/usr/local/lib/python3.7/dist-packages/descarteslabs/client/deprecation.py:37: DeprecationWarning: The parameter `start_time` has been renamed to `start_datetime`.`start_time` will be removed in future versions, please use `start_datetime` instead.\\n  warnings.warn(msg, DeprecationWarning)\\n/usr/local/lib/python3.7/dist-packages/descarteslabs/client/deprecation.py:37: DeprecationWarning: The parameter `end_time` has been renamed to `end_datetime`.`end_time` will be removed in future versions, please use `end_datetime` instead.\\n  warnings.warn(msg, DeprecationWarning)\\n/usr/local/lib/python3.7/dist-packages/descarteslabs/client/deprecation.py:37: DeprecationWarning: The parameter `start_time` has been renamed to `start_datetime`.`start_time` will be removed in future versions, please use `start_datetime` instead.\\n  warnings.warn(msg, DeprecationWarning)\\n/usr/local/lib/python3.7/dist-packages/descarteslabs/client/deprecation.py:37: DeprecationWarning: The parameter `end_time` has been renamed to `end_datetime`.`end_time` will be removed in future versions, please use `end_datetime` instead.\\n  warnings.warn(msg, DeprecationWarning)\\n/usr/local/lib/python3.7/dist-packages/descarteslabs/client/deprecation.py:37: DeprecationWarning: The parameter `start_time` has been renamed to `start_datetime`.`start_time` will be removed in future versions, please use `start_datetime` instead.\\n  warnings.warn(msg, DeprecationWarning)\\n/usr/local/lib/python3.7/dist-packages/descarteslabs/client/deprecation.py:37: DeprecationWarning: The parameter `end_time` has been renamed to `end_datetime`.`end_time` will be removed in future versions, please use `end_datetime` instead.\\n  warnings.warn(msg, DeprecationWarning)\\n/usr/local/lib/python3.7/dist-packages/descarteslabs/client/deprecation.py:37: DeprecationWarning: The parameter `start_time` has been renamed to `start_datetime`.`start_time` will be removed in future versions, please use `start_datetime` instead.\\n  warnings.warn(msg, DeprecationWarning)\\n/usr/local/lib/python3.7/dist-packages/descarteslabs/client/deprecation.py:37: DeprecationWarning: The parameter `end_time` has been renamed to `end_datetime`.`end_time` will be removed in future versions, please use `end_datetime` instead.\\n  warnings.warn(msg, DeprecationWarning)\\nHERE: PROJCS[\"WGS 84 / UTM zone 48N\",\\n    GEOGCS[\"WGS 84\",\\n        DATUM[\"WGS_1984\",\\n            SPHEROID[\"WGS 84\",6378137,298.257223563,\\n                AUTHORITY[\"EPSG\",\"7030\"]],\\n            AUTHORITY[\"EPSG\",\"6326\"]],\\n        PRIMEM[\"Greenwich\",0,\\n            AUTHORITY[\"EPSG\",\"8901\"]],\\n        UNIT[\"degree\",0.0174532925199433,\\n            AUTHORITY[\"EPSG\",\"9122\"]],\\n        AUTHORITY[\"EPSG\",\"4326\"]],\\n    PROJECTION[\"Transverse_Mercator\"],\\n    PARAMETER[\"latitude_of_origin\",0],\\n    PARAMETER[\"central_meridian\",105],\\n    PARAMETER[\"scale_factor\",0.9996],\\n    PARAMETER[\"false_easting\",500000],\\n    PARAMETER[\"false_northing\",0],\\n    UNIT[\"metre\",1,\\n        AUTHORITY[\"EPSG\",\"9001\"]],\\n    AXIS[\"Easting\",EAST],\\n    AXIS[\"Northing\",NORTH],\\n    AUTHORITY[\"EPSG\",\"32648\"]]\\nTraceback (most recent call last):\\n  File \"/opt/src/wrapper/wrapper.py\", line 578, in pickle_work\\n    output = f(*arguments, **parameters)\\n  File \"<ipython-input-8-581db25cabcb>\", line 124, in rice_sar_stats\\n  File \"<ipython-input-8-581db25cabcb>\", line 122, in run_analysis\\n  File \"<ipython-input-8-581db25cabcb>\", line 82, in catalog_upload\\n  File \"<ipython-input-8-581db25cabcb>\", line 25, in arr_to_tiff\\n  File \"/usr/local/lib/python3.7/dist-packages/osgeo/gdal.py\", line 1843, in SetProjection\\n    return _gdal.Dataset_SetProjection(self, *args)\\nTypeError: in method \\'Dataset_SetProjection\\', argument 2 of type \\'char const *\\'\\n'\n"
     ]
    },
    {
     "name": "stderr",
     "output_type": "stream",
     "text": [
      "WARNING:root:Done with 4 / 8 tasks\n"
     ]
    },
    {
     "name": "stdout",
     "output_type": "stream",
     "text": [
      "Failed with exception:  b'/usr/local/lib/python3.7/dist-packages/descarteslabs/client/deprecation.py:37: DeprecationWarning: The parameter `start_time` has been renamed to `start_datetime`.`start_time` will be removed in future versions, please use `start_datetime` instead.\\n  warnings.warn(msg, DeprecationWarning)\\n/usr/local/lib/python3.7/dist-packages/descarteslabs/client/deprecation.py:37: DeprecationWarning: The parameter `end_time` has been renamed to `end_datetime`.`end_time` will be removed in future versions, please use `end_datetime` instead.\\n  warnings.warn(msg, DeprecationWarning)\\n/usr/local/lib/python3.7/dist-packages/descarteslabs/client/deprecation.py:37: DeprecationWarning: The parameter `start_time` has been renamed to `start_datetime`.`start_time` will be removed in future versions, please use `start_datetime` instead.\\n  warnings.warn(msg, DeprecationWarning)\\n/usr/local/lib/python3.7/dist-packages/descarteslabs/client/deprecation.py:37: DeprecationWarning: The parameter `end_time` has been renamed to `end_datetime`.`end_time` will be removed in future versions, please use `end_datetime` instead.\\n  warnings.warn(msg, DeprecationWarning)\\n/usr/local/lib/python3.7/dist-packages/descarteslabs/client/deprecation.py:37: DeprecationWarning: The parameter `start_time` has been renamed to `start_datetime`.`start_time` will be removed in future versions, please use `start_datetime` instead.\\n  warnings.warn(msg, DeprecationWarning)\\n/usr/local/lib/python3.7/dist-packages/descarteslabs/client/deprecation.py:37: DeprecationWarning: The parameter `end_time` has been renamed to `end_datetime`.`end_time` will be removed in future versions, please use `end_datetime` instead.\\n  warnings.warn(msg, DeprecationWarning)\\n/usr/local/lib/python3.7/dist-packages/descarteslabs/client/deprecation.py:37: DeprecationWarning: The parameter `start_time` has been renamed to `start_datetime`.`start_time` will be removed in future versions, please use `start_datetime` instead.\\n  warnings.warn(msg, DeprecationWarning)\\n/usr/local/lib/python3.7/dist-packages/descarteslabs/client/deprecation.py:37: DeprecationWarning: The parameter `end_time` has been renamed to `end_datetime`.`end_time` will be removed in future versions, please use `end_datetime` instead.\\n  warnings.warn(msg, DeprecationWarning)\\n/usr/local/lib/python3.7/dist-packages/descarteslabs/client/deprecation.py:37: DeprecationWarning: The parameter `start_time` has been renamed to `start_datetime`.`start_time` will be removed in future versions, please use `start_datetime` instead.\\n  warnings.warn(msg, DeprecationWarning)\\n/usr/local/lib/python3.7/dist-packages/descarteslabs/client/deprecation.py:37: DeprecationWarning: The parameter `end_time` has been renamed to `end_datetime`.`end_time` will be removed in future versions, please use `end_datetime` instead.\\n  warnings.warn(msg, DeprecationWarning)\\n/usr/local/lib/python3.7/dist-packages/descarteslabs/client/deprecation.py:37: DeprecationWarning: The parameter `start_time` has been renamed to `start_datetime`.`start_time` will be removed in future versions, please use `start_datetime` instead.\\n  warnings.warn(msg, DeprecationWarning)\\n/usr/local/lib/python3.7/dist-packages/descarteslabs/client/deprecation.py:37: DeprecationWarning: The parameter `end_time` has been renamed to `end_datetime`.`end_time` will be removed in future versions, please use `end_datetime` instead.\\n  warnings.warn(msg, DeprecationWarning)\\nHERE: PROJCS[\"WGS 84 / UTM zone 48N\",\\n    GEOGCS[\"WGS 84\",\\n        DATUM[\"WGS_1984\",\\n            SPHEROID[\"WGS 84\",6378137,298.257223563,\\n                AUTHORITY[\"EPSG\",\"7030\"]],\\n            AUTHORITY[\"EPSG\",\"6326\"]],\\n        PRIMEM[\"Greenwich\",0,\\n            AUTHORITY[\"EPSG\",\"8901\"]],\\n        UNIT[\"degree\",0.0174532925199433,\\n            AUTHORITY[\"EPSG\",\"9122\"]],\\n        AUTHORITY[\"EPSG\",\"4326\"]],\\n    PROJECTION[\"Transverse_Mercator\"],\\n    PARAMETER[\"latitude_of_origin\",0],\\n    PARAMETER[\"central_meridian\",105],\\n    PARAMETER[\"scale_factor\",0.9996],\\n    PARAMETER[\"false_easting\",500000],\\n    PARAMETER[\"false_northing\",0],\\n    UNIT[\"metre\",1,\\n        AUTHORITY[\"EPSG\",\"9001\"]],\\n    AXIS[\"Easting\",EAST],\\n    AXIS[\"Northing\",NORTH],\\n    AUTHORITY[\"EPSG\",\"32648\"]]\\nTraceback (most recent call last):\\n  File \"/opt/src/wrapper/wrapper.py\", line 578, in pickle_work\\n    output = f(*arguments, **parameters)\\n  File \"<ipython-input-8-581db25cabcb>\", line 124, in rice_sar_stats\\n  File \"<ipython-input-8-581db25cabcb>\", line 122, in run_analysis\\n  File \"<ipython-input-8-581db25cabcb>\", line 82, in catalog_upload\\n  File \"<ipython-input-8-581db25cabcb>\", line 25, in arr_to_tiff\\n  File \"/usr/local/lib/python3.7/dist-packages/osgeo/gdal.py\", line 1843, in SetProjection\\n    return _gdal.Dataset_SetProjection(self, *args)\\nTypeError: in method \\'Dataset_SetProjection\\', argument 2 of type \\'char const *\\'\\n'\n"
     ]
    },
    {
     "name": "stderr",
     "output_type": "stream",
     "text": [
      "WARNING:root:Done with 5 / 8 tasks\n"
     ]
    },
    {
     "name": "stdout",
     "output_type": "stream",
     "text": [
      "Failed with exception:  b'/usr/local/lib/python3.7/dist-packages/descarteslabs/client/deprecation.py:37: DeprecationWarning: The parameter `start_time` has been renamed to `start_datetime`.`start_time` will be removed in future versions, please use `start_datetime` instead.\\n  warnings.warn(msg, DeprecationWarning)\\n/usr/local/lib/python3.7/dist-packages/descarteslabs/client/deprecation.py:37: DeprecationWarning: The parameter `end_time` has been renamed to `end_datetime`.`end_time` will be removed in future versions, please use `end_datetime` instead.\\n  warnings.warn(msg, DeprecationWarning)\\n/usr/local/lib/python3.7/dist-packages/descarteslabs/client/deprecation.py:37: DeprecationWarning: The parameter `start_time` has been renamed to `start_datetime`.`start_time` will be removed in future versions, please use `start_datetime` instead.\\n  warnings.warn(msg, DeprecationWarning)\\n/usr/local/lib/python3.7/dist-packages/descarteslabs/client/deprecation.py:37: DeprecationWarning: The parameter `end_time` has been renamed to `end_datetime`.`end_time` will be removed in future versions, please use `end_datetime` instead.\\n  warnings.warn(msg, DeprecationWarning)\\n/usr/local/lib/python3.7/dist-packages/descarteslabs/client/deprecation.py:37: DeprecationWarning: The parameter `start_time` has been renamed to `start_datetime`.`start_time` will be removed in future versions, please use `start_datetime` instead.\\n  warnings.warn(msg, DeprecationWarning)\\n/usr/local/lib/python3.7/dist-packages/descarteslabs/client/deprecation.py:37: DeprecationWarning: The parameter `end_time` has been renamed to `end_datetime`.`end_time` will be removed in future versions, please use `end_datetime` instead.\\n  warnings.warn(msg, DeprecationWarning)\\n/usr/local/lib/python3.7/dist-packages/descarteslabs/client/deprecation.py:37: DeprecationWarning: The parameter `start_time` has been renamed to `start_datetime`.`start_time` will be removed in future versions, please use `start_datetime` instead.\\n  warnings.warn(msg, DeprecationWarning)\\n/usr/local/lib/python3.7/dist-packages/descarteslabs/client/deprecation.py:37: DeprecationWarning: The parameter `end_time` has been renamed to `end_datetime`.`end_time` will be removed in future versions, please use `end_datetime` instead.\\n  warnings.warn(msg, DeprecationWarning)\\n/usr/local/lib/python3.7/dist-packages/descarteslabs/client/deprecation.py:37: DeprecationWarning: The parameter `start_time` has been renamed to `start_datetime`.`start_time` will be removed in future versions, please use `start_datetime` instead.\\n  warnings.warn(msg, DeprecationWarning)\\n/usr/local/lib/python3.7/dist-packages/descarteslabs/client/deprecation.py:37: DeprecationWarning: The parameter `end_time` has been renamed to `end_datetime`.`end_time` will be removed in future versions, please use `end_datetime` instead.\\n  warnings.warn(msg, DeprecationWarning)\\n/usr/local/lib/python3.7/dist-packages/descarteslabs/client/deprecation.py:37: DeprecationWarning: The parameter `start_time` has been renamed to `start_datetime`.`start_time` will be removed in future versions, please use `start_datetime` instead.\\n  warnings.warn(msg, DeprecationWarning)\\n/usr/local/lib/python3.7/dist-packages/descarteslabs/client/deprecation.py:37: DeprecationWarning: The parameter `end_time` has been renamed to `end_datetime`.`end_time` will be removed in future versions, please use `end_datetime` instead.\\n  warnings.warn(msg, DeprecationWarning)\\nHERE: PROJCS[\"WGS 84 / UTM zone 48N\",\\n    GEOGCS[\"WGS 84\",\\n        DATUM[\"WGS_1984\",\\n            SPHEROID[\"WGS 84\",6378137,298.257223563,\\n                AUTHORITY[\"EPSG\",\"7030\"]],\\n            AUTHORITY[\"EPSG\",\"6326\"]],\\n        PRIMEM[\"Greenwich\",0,\\n            AUTHORITY[\"EPSG\",\"8901\"]],\\n        UNIT[\"degree\",0.0174532925199433,\\n            AUTHORITY[\"EPSG\",\"9122\"]],\\n        AUTHORITY[\"EPSG\",\"4326\"]],\\n    PROJECTION[\"Transverse_Mercator\"],\\n    PARAMETER[\"latitude_of_origin\",0],\\n    PARAMETER[\"central_meridian\",105],\\n    PARAMETER[\"scale_factor\",0.9996],\\n    PARAMETER[\"false_easting\",500000],\\n    PARAMETER[\"false_northing\",0],\\n    UNIT[\"metre\",1,\\n        AUTHORITY[\"EPSG\",\"9001\"]],\\n    AXIS[\"Easting\",EAST],\\n    AXIS[\"Northing\",NORTH],\\n    AUTHORITY[\"EPSG\",\"32648\"]]\\nTraceback (most recent call last):\\n  File \"/opt/src/wrapper/wrapper.py\", line 578, in pickle_work\\n    output = f(*arguments, **parameters)\\n  File \"<ipython-input-8-581db25cabcb>\", line 124, in rice_sar_stats\\n  File \"<ipython-input-8-581db25cabcb>\", line 122, in run_analysis\\n  File \"<ipython-input-8-581db25cabcb>\", line 82, in catalog_upload\\n  File \"<ipython-input-8-581db25cabcb>\", line 25, in arr_to_tiff\\n  File \"/usr/local/lib/python3.7/dist-packages/osgeo/gdal.py\", line 1843, in SetProjection\\n    return _gdal.Dataset_SetProjection(self, *args)\\nTypeError: in method \\'Dataset_SetProjection\\', argument 2 of type \\'char const *\\'\\n'\n"
     ]
    },
    {
     "name": "stderr",
     "output_type": "stream",
     "text": [
      "WARNING:root:Done with 5 / 8 tasks\n",
      "WARNING:root:Done with 5 / 8 tasks\n",
      "WARNING:root:Done with 5 / 8 tasks\n",
      "WARNING:root:Done with 5 / 8 tasks\n",
      "WARNING:root:Done with 6 / 8 tasks\n"
     ]
    },
    {
     "name": "stdout",
     "output_type": "stream",
     "text": [
      "Failed with exception:  b'/usr/local/lib/python3.7/dist-packages/descarteslabs/client/deprecation.py:37: DeprecationWarning: The parameter `start_time` has been renamed to `start_datetime`.`start_time` will be removed in future versions, please use `start_datetime` instead.\\n  warnings.warn(msg, DeprecationWarning)\\n/usr/local/lib/python3.7/dist-packages/descarteslabs/client/deprecation.py:37: DeprecationWarning: The parameter `end_time` has been renamed to `end_datetime`.`end_time` will be removed in future versions, please use `end_datetime` instead.\\n  warnings.warn(msg, DeprecationWarning)\\n/usr/local/lib/python3.7/dist-packages/descarteslabs/client/deprecation.py:37: DeprecationWarning: The parameter `start_time` has been renamed to `start_datetime`.`start_time` will be removed in future versions, please use `start_datetime` instead.\\n  warnings.warn(msg, DeprecationWarning)\\n/usr/local/lib/python3.7/dist-packages/descarteslabs/client/deprecation.py:37: DeprecationWarning: The parameter `end_time` has been renamed to `end_datetime`.`end_time` will be removed in future versions, please use `end_datetime` instead.\\n  warnings.warn(msg, DeprecationWarning)\\n/usr/local/lib/python3.7/dist-packages/descarteslabs/client/deprecation.py:37: DeprecationWarning: The parameter `start_time` has been renamed to `start_datetime`.`start_time` will be removed in future versions, please use `start_datetime` instead.\\n  warnings.warn(msg, DeprecationWarning)\\n/usr/local/lib/python3.7/dist-packages/descarteslabs/client/deprecation.py:37: DeprecationWarning: The parameter `end_time` has been renamed to `end_datetime`.`end_time` will be removed in future versions, please use `end_datetime` instead.\\n  warnings.warn(msg, DeprecationWarning)\\n/usr/local/lib/python3.7/dist-packages/descarteslabs/client/deprecation.py:37: DeprecationWarning: The parameter `start_time` has been renamed to `start_datetime`.`start_time` will be removed in future versions, please use `start_datetime` instead.\\n  warnings.warn(msg, DeprecationWarning)\\n/usr/local/lib/python3.7/dist-packages/descarteslabs/client/deprecation.py:37: DeprecationWarning: The parameter `end_time` has been renamed to `end_datetime`.`end_time` will be removed in future versions, please use `end_datetime` instead.\\n  warnings.warn(msg, DeprecationWarning)\\n/usr/local/lib/python3.7/dist-packages/descarteslabs/client/deprecation.py:37: DeprecationWarning: The parameter `start_time` has been renamed to `start_datetime`.`start_time` will be removed in future versions, please use `start_datetime` instead.\\n  warnings.warn(msg, DeprecationWarning)\\n/usr/local/lib/python3.7/dist-packages/descarteslabs/client/deprecation.py:37: DeprecationWarning: The parameter `end_time` has been renamed to `end_datetime`.`end_time` will be removed in future versions, please use `end_datetime` instead.\\n  warnings.warn(msg, DeprecationWarning)\\n/usr/local/lib/python3.7/dist-packages/descarteslabs/client/deprecation.py:37: DeprecationWarning: The parameter `start_time` has been renamed to `start_datetime`.`start_time` will be removed in future versions, please use `start_datetime` instead.\\n  warnings.warn(msg, DeprecationWarning)\\n/usr/local/lib/python3.7/dist-packages/descarteslabs/client/deprecation.py:37: DeprecationWarning: The parameter `end_time` has been renamed to `end_datetime`.`end_time` will be removed in future versions, please use `end_datetime` instead.\\n  warnings.warn(msg, DeprecationWarning)\\nHERE: PROJCS[\"WGS 84 / UTM zone 48N\",\\n    GEOGCS[\"WGS 84\",\\n        DATUM[\"WGS_1984\",\\n            SPHEROID[\"WGS 84\",6378137,298.257223563,\\n                AUTHORITY[\"EPSG\",\"7030\"]],\\n            AUTHORITY[\"EPSG\",\"6326\"]],\\n        PRIMEM[\"Greenwich\",0,\\n            AUTHORITY[\"EPSG\",\"8901\"]],\\n        UNIT[\"degree\",0.0174532925199433,\\n            AUTHORITY[\"EPSG\",\"9122\"]],\\n        AUTHORITY[\"EPSG\",\"4326\"]],\\n    PROJECTION[\"Transverse_Mercator\"],\\n    PARAMETER[\"latitude_of_origin\",0],\\n    PARAMETER[\"central_meridian\",105],\\n    PARAMETER[\"scale_factor\",0.9996],\\n    PARAMETER[\"false_easting\",500000],\\n    PARAMETER[\"false_northing\",0],\\n    UNIT[\"metre\",1,\\n        AUTHORITY[\"EPSG\",\"9001\"]],\\n    AXIS[\"Easting\",EAST],\\n    AXIS[\"Northing\",NORTH],\\n    AUTHORITY[\"EPSG\",\"32648\"]]\\nTraceback (most recent call last):\\n  File \"/opt/src/wrapper/wrapper.py\", line 578, in pickle_work\\n    output = f(*arguments, **parameters)\\n  File \"<ipython-input-8-581db25cabcb>\", line 124, in rice_sar_stats\\n  File \"<ipython-input-8-581db25cabcb>\", line 122, in run_analysis\\n  File \"<ipython-input-8-581db25cabcb>\", line 82, in catalog_upload\\n  File \"<ipython-input-8-581db25cabcb>\", line 25, in arr_to_tiff\\n  File \"/usr/local/lib/python3.7/dist-packages/osgeo/gdal.py\", line 1843, in SetProjection\\n    return _gdal.Dataset_SetProjection(self, *args)\\nTypeError: in method \\'Dataset_SetProjection\\', argument 2 of type \\'char const *\\'\\n'\n"
     ]
    },
    {
     "name": "stderr",
     "output_type": "stream",
     "text": [
      "WARNING:root:Done with 7 / 8 tasks\n"
     ]
    },
    {
     "name": "stdout",
     "output_type": "stream",
     "text": [
      "Failed with exception:  b'/usr/local/lib/python3.7/dist-packages/descarteslabs/client/deprecation.py:37: DeprecationWarning: The parameter `start_time` has been renamed to `start_datetime`.`start_time` will be removed in future versions, please use `start_datetime` instead.\\n  warnings.warn(msg, DeprecationWarning)\\n/usr/local/lib/python3.7/dist-packages/descarteslabs/client/deprecation.py:37: DeprecationWarning: The parameter `end_time` has been renamed to `end_datetime`.`end_time` will be removed in future versions, please use `end_datetime` instead.\\n  warnings.warn(msg, DeprecationWarning)\\n/usr/local/lib/python3.7/dist-packages/descarteslabs/client/deprecation.py:37: DeprecationWarning: The parameter `start_time` has been renamed to `start_datetime`.`start_time` will be removed in future versions, please use `start_datetime` instead.\\n  warnings.warn(msg, DeprecationWarning)\\n/usr/local/lib/python3.7/dist-packages/descarteslabs/client/deprecation.py:37: DeprecationWarning: The parameter `end_time` has been renamed to `end_datetime`.`end_time` will be removed in future versions, please use `end_datetime` instead.\\n  warnings.warn(msg, DeprecationWarning)\\n/usr/local/lib/python3.7/dist-packages/descarteslabs/client/deprecation.py:37: DeprecationWarning: The parameter `start_time` has been renamed to `start_datetime`.`start_time` will be removed in future versions, please use `start_datetime` instead.\\n  warnings.warn(msg, DeprecationWarning)\\n/usr/local/lib/python3.7/dist-packages/descarteslabs/client/deprecation.py:37: DeprecationWarning: The parameter `end_time` has been renamed to `end_datetime`.`end_time` will be removed in future versions, please use `end_datetime` instead.\\n  warnings.warn(msg, DeprecationWarning)\\n/usr/local/lib/python3.7/dist-packages/descarteslabs/client/deprecation.py:37: DeprecationWarning: The parameter `start_time` has been renamed to `start_datetime`.`start_time` will be removed in future versions, please use `start_datetime` instead.\\n  warnings.warn(msg, DeprecationWarning)\\n/usr/local/lib/python3.7/dist-packages/descarteslabs/client/deprecation.py:37: DeprecationWarning: The parameter `end_time` has been renamed to `end_datetime`.`end_time` will be removed in future versions, please use `end_datetime` instead.\\n  warnings.warn(msg, DeprecationWarning)\\n/usr/local/lib/python3.7/dist-packages/descarteslabs/client/deprecation.py:37: DeprecationWarning: The parameter `start_time` has been renamed to `start_datetime`.`start_time` will be removed in future versions, please use `start_datetime` instead.\\n  warnings.warn(msg, DeprecationWarning)\\n/usr/local/lib/python3.7/dist-packages/descarteslabs/client/deprecation.py:37: DeprecationWarning: The parameter `end_time` has been renamed to `end_datetime`.`end_time` will be removed in future versions, please use `end_datetime` instead.\\n  warnings.warn(msg, DeprecationWarning)\\n/usr/local/lib/python3.7/dist-packages/descarteslabs/client/deprecation.py:37: DeprecationWarning: The parameter `start_time` has been renamed to `start_datetime`.`start_time` will be removed in future versions, please use `start_datetime` instead.\\n  warnings.warn(msg, DeprecationWarning)\\n/usr/local/lib/python3.7/dist-packages/descarteslabs/client/deprecation.py:37: DeprecationWarning: The parameter `end_time` has been renamed to `end_datetime`.`end_time` will be removed in future versions, please use `end_datetime` instead.\\n  warnings.warn(msg, DeprecationWarning)\\nHERE: PROJCS[\"WGS 84 / UTM zone 48N\",\\n    GEOGCS[\"WGS 84\",\\n        DATUM[\"WGS_1984\",\\n            SPHEROID[\"WGS 84\",6378137,298.257223563,\\n                AUTHORITY[\"EPSG\",\"7030\"]],\\n            AUTHORITY[\"EPSG\",\"6326\"]],\\n        PRIMEM[\"Greenwich\",0,\\n            AUTHORITY[\"EPSG\",\"8901\"]],\\n        UNIT[\"degree\",0.0174532925199433,\\n            AUTHORITY[\"EPSG\",\"9122\"]],\\n        AUTHORITY[\"EPSG\",\"4326\"]],\\n    PROJECTION[\"Transverse_Mercator\"],\\n    PARAMETER[\"latitude_of_origin\",0],\\n    PARAMETER[\"central_meridian\",105],\\n    PARAMETER[\"scale_factor\",0.9996],\\n    PARAMETER[\"false_easting\",500000],\\n    PARAMETER[\"false_northing\",0],\\n    UNIT[\"metre\",1,\\n        AUTHORITY[\"EPSG\",\"9001\"]],\\n    AXIS[\"Easting\",EAST],\\n    AXIS[\"Northing\",NORTH],\\n    AUTHORITY[\"EPSG\",\"32648\"]]\\nTraceback (most recent call last):\\n  File \"/opt/src/wrapper/wrapper.py\", line 578, in pickle_work\\n    output = f(*arguments, **parameters)\\n  File \"<ipython-input-8-581db25cabcb>\", line 124, in rice_sar_stats\\n  File \"<ipython-input-8-581db25cabcb>\", line 122, in run_analysis\\n  File \"<ipython-input-8-581db25cabcb>\", line 82, in catalog_upload\\n  File \"<ipython-input-8-581db25cabcb>\", line 25, in arr_to_tiff\\n  File \"/usr/local/lib/python3.7/dist-packages/osgeo/gdal.py\", line 1843, in SetProjection\\n    return _gdal.Dataset_SetProjection(self, *args)\\nTypeError: in method \\'Dataset_SetProjection\\', argument 2 of type \\'char const *\\'\\n'\n"
     ]
    },
    {
     "name": "stderr",
     "output_type": "stream",
     "text": [
      "WARNING:root:Done with 7 / 8 tasks\n",
      "WARNING:root:Done with 7 / 8 tasks\n",
      "WARNING:root:Done with 7 / 8 tasks\n",
      "WARNING:root:Done with 7 / 8 tasks\n",
      "WARNING:root:Done with 7 / 8 tasks\n",
      "WARNING:root:Done with 7 / 8 tasks\n",
      "WARNING:root:Done with 7 / 8 tasks\n",
      "WARNING:root:Done with 7 / 8 tasks\n"
     ]
    },
    {
     "name": "stdout",
     "output_type": "stream",
     "text": [
      "tasks not submitted!\n"
     ]
    }
   ],
   "source": [
    "year = '2017'\n",
    "loc = 'singapore'\n",
    "    \n",
    "res = 20.0\n",
    "pad = 0 \n",
    "pixels = 1024 \n",
    "\n",
    "aoi = dl.places.shape(loc, geom = 'low')\n",
    "tiles = dl.raster.dltiles_from_shape(res, pixels, pad, aoi['geometry'])\n",
    "\n",
    "try:\n",
    "    at = AsyncTasks()\n",
    "    async_function = at.create_or_get_function(\n",
    "            rice_sar_stats, cpus=1, memory=\"6Gi\", name=\"sar_img_stats:astrodigital\",\n",
    "            maximum_concurrency = 200,\n",
    "            image='us.gcr.io/dl-ci-cd/images/tasks/public/py3.7/default:v2018.11.27')\n",
    "    # Iterate over tiles, submit tasks\n",
    "    tasks = []\n",
    "    for tile in tiles['features']:\n",
    "\n",
    "        print(\"TILE ID: %s\" % tile['properties']['key'])\n",
    "\n",
    "        t = async_function( \n",
    "            year,\n",
    "            tile,\n",
    "        ) \n",
    "        tasks.append(t)\n",
    "\n",
    "    print('Done submitting %i tasks. Starting to collect' % len(tasks))\n",
    "\n",
    "    for task in as_completed(tasks):\n",
    "\n",
    "        if task.exception:\n",
    "            print(\"Failed with exception: \", task.log)\n",
    "        else:\n",
    "            task.result\n",
    "except:\n",
    "    print (\"tasks not submitted!\")\n",
    "    "
   ]
  }
 ],
 "metadata": {
  "kernelspec": {
   "display_name": "rice-stats",
   "language": "python",
   "name": "rice-stats"
  },
  "language_info": {
   "codemirror_mode": {
    "name": "ipython",
    "version": 3
   },
   "file_extension": ".py",
   "mimetype": "text/x-python",
   "name": "python",
   "nbconvert_exporter": "python",
   "pygments_lexer": "ipython3",
   "version": "3.7.2"
  }
 },
 "nbformat": 4,
 "nbformat_minor": 2
}
