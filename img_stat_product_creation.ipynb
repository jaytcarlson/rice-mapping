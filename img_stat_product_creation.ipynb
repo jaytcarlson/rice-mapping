{
 "cells": [
  {
   "cell_type": "code",
   "execution_count": 1,
   "metadata": {},
   "outputs": [],
   "source": [
    "import descarteslabs as dl\n",
    "import os\n",
    "from random import randint\n",
    "from time import sleep"
   ]
  },
  {
   "cell_type": "code",
   "execution_count": 2,
   "metadata": {},
   "outputs": [],
   "source": [
    "def catalog_upload(year):\n",
    "\n",
    "    # define the product\n",
    "    product_id = dl.Catalog().add_product(\n",
    "            'sar_img_stats:astrodigital',\n",
    "            title='Astro Digital SAR VV & VH image stats',\n",
    "            description='SAR image statistics (max/min/mean/median/std) from VV & VH backscatter'\n",
    "            )['data']['id']\n",
    "\n",
    "    # add band id\n",
    "    bands=['vv', 'vh']\n",
    "    passes = ['DESCENDING', 'ASCENDING', 'BOTH']\n",
    "    stats = ['max', 'min', 'mean', 'median', 'std']\n",
    "\n",
    "    c = 1\n",
    "    for i, band in enumerate(bands):\n",
    "        for p in passes:            \n",
    "            for stat in stats:\n",
    "                band_id = dl.Catalog().add_band(\n",
    "                    product_id,\n",
    "                    '{}_{}_{}'.format(band,stat,p),\n",
    "                    jpx_layer=0,\n",
    "                    srcfile=0,\n",
    "                    srcband=c,\n",
    "                    nbits=8,\n",
    "                    dtype='Byte',\n",
    "                    nodata=0,\n",
    "                    data_range=[0, 2**8 - 1],\n",
    "                    type='spectral',\n",
    "                    default_range=(0,255),\n",
    "                    colormap_name='viridis',\n",
    "                )['data']['id']\n",
    "                c+=1\n",
    "            print(band_id)"
   ]
  },
  {
   "cell_type": "code",
   "execution_count": 3,
   "metadata": {},
   "outputs": [
    {
     "name": "stdout",
     "output_type": "stream",
     "text": [
      "7294028cc01114d89a473cf055d29dc5cd5ffe88:sar_img_stats:astrodigital:vv_std_DESCENDING\n",
      "7294028cc01114d89a473cf055d29dc5cd5ffe88:sar_img_stats:astrodigital:vv_std_ASCENDING\n",
      "7294028cc01114d89a473cf055d29dc5cd5ffe88:sar_img_stats:astrodigital:vv_std_BOTH\n",
      "7294028cc01114d89a473cf055d29dc5cd5ffe88:sar_img_stats:astrodigital:vh_std_DESCENDING\n",
      "7294028cc01114d89a473cf055d29dc5cd5ffe88:sar_img_stats:astrodigital:vh_std_ASCENDING\n",
      "7294028cc01114d89a473cf055d29dc5cd5ffe88:sar_img_stats:astrodigital:vh_std_BOTH\n"
     ]
    }
   ],
   "source": [
    "catalog_upload(2017)"
   ]
  }
 ],
 "metadata": {
  "kernelspec": {
   "display_name": "rice-stats",
   "language": "python",
   "name": "rice-stats"
  },
  "language_info": {
   "codemirror_mode": {
    "name": "ipython",
    "version": 3
   },
   "file_extension": ".py",
   "mimetype": "text/x-python",
   "name": "python",
   "nbconvert_exporter": "python",
   "pygments_lexer": "ipython3",
   "version": "3.7.2"
  }
 },
 "nbformat": 4,
 "nbformat_minor": 2
}
