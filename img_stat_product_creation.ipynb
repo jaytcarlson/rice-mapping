{
 "cells": [
  {
   "cell_type": "code",
   "execution_count": null,
   "metadata": {},
   "outputs": [],
   "source": [
    "import descarteslabs as dl\n",
    "import os\n",
    "from random import randint\n",
    "from time import sleep"
   ]
  },
  {
   "cell_type": "code",
   "execution_count": null,
   "metadata": {},
   "outputs": [],
   "source": [
    "def catalog_upload(year):\n",
    "    \n",
    "    # generate product ID and title from username\n",
    "    user = os.environ.get('USER')\n",
    "    \n",
    "    product_id = '{}:{}:test'.format(\n",
    "        dl.Auth().namespace,\n",
    "        ''.join(user.lower().split(' '))\n",
    "    )\n",
    "    product_title = '{} Test'.format(user)\n",
    "    \n",
    "    # check if product already exists, remove if it does\n",
    "    already_exists = list(filter(lambda p: p.get('id') == product_id, dl.Catalog().own_products()))\n",
    "    if already_exists:\n",
    "        print(\"Product already exists, removing existing one...\")\n",
    "        dl.Catalog().remove_product(product_id, cascade=True)\n",
    "        print(\"...done\")\n",
    "\n",
    "    # define the product\n",
    "    product_id = dl.Catalog().add_product(\n",
    "            product_id,\n",
    "            title=product_title,\n",
    "            description='SAR image statistics (max/min/mean/median/std) from VV & VH backscatter'\n",
    "            )['data']['id']\n",
    "    print(product_id)\n",
    "\n",
    "    # add band id\n",
    "    bands=['vv', 'vh']\n",
    "    passes = ['DESCENDING', 'ASCENDING', 'BOTH']\n",
    "    stats = ['max', 'min', 'mean', 'median', 'std']\n",
    "\n",
    "    for i, band in enumerate(bands):\n",
    "        for p in passes:            \n",
    "            for stat in stats:\n",
    "                band_id = dl.Catalog().add_band(\n",
    "                    product_id,\n",
    "                    '{}_{}_{}'.format(band,stat,p),\n",
    "                    jpx_layer=0,\n",
    "                    srcfile=0,\n",
    "                    srcband=i + 1,\n",
    "                    nbits=8,\n",
    "                    dtype='Byte',\n",
    "                    nodata=0,\n",
    "                    data_range=[0, 2**8 - 1],\n",
    "                    type='spectral',\n",
    "                    default_range=(0,255),\n",
    "                    colormap_name='viridis',\n",
    "                )['data']['id']\n",
    "                print(\"Added band {}\".format(band_id))\n",
    "    print(\"Done! View your product here: https://catalog.descarteslabs.com/?/product/{}\".format(product_id))"
   ]
  },
  {
   "cell_type": "code",
   "execution_count": null,
   "metadata": {},
   "outputs": [],
   "source": [
    "catalog_upload(2017)"
   ]
  }
 ],
 "metadata": {
  "kernelspec": {
   "display_name": "Python 3",
   "language": "python",
   "name": "python3"
  },
  "language_info": {
   "codemirror_mode": {
    "name": "ipython",
    "version": 3
   },
   "file_extension": ".py",
   "mimetype": "text/x-python",
   "name": "python",
   "nbconvert_exporter": "python",
   "pygments_lexer": "ipython3",
   "version": "3.7.3"
  }
 },
 "nbformat": 4,
 "nbformat_minor": 2
}
